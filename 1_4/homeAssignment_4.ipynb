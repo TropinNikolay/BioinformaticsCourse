{
 "cells": [
  {
   "cell_type": "markdown",
   "metadata": {},
   "source": [
    "# Домашнее задание №4\n",
    "\n",
    "Это домашнее задание можно выполнять целиком в этом ноутбуке, либо алгоритмы написать в отдельном файле и импортировать сюда, для использования. В папке data лежат два файла islands.fasta и nonIslands.fasta. В них хранятся прочтения из CpG островков и из обычных участков генома соответственно, этими данными нужно будет воспользоваться в первом задании."
   ]
  },
  {
   "cell_type": "markdown",
   "metadata": {},
   "source": [
    "## Задача №1 (1)\n",
    "Определите частоты генерации для каждого из нуклеотидов внутри CpG островков и вне их. Посчитайте так-же частоты для всех упорядоченных пар нуклеотидов и сравните частоту пары CG внутри островков и снаружи. Сделайте вывод. "
   ]
  },
  {
   "cell_type": "code",
   "execution_count": 12,
   "metadata": {},
   "outputs": [],
   "source": [
    "from Bio import SeqIO\n",
    "import itertools\n",
    "import numpy as np"
   ]
  },
  {
   "cell_type": "code",
   "execution_count": 13,
   "metadata": {
    "scrolled": false
   },
   "outputs": [
    {
     "name": "stdout",
     "output_type": "stream",
     "text": [
      "Nucleotide frequency in islands:\n",
      " {'A': 0.20246225382932168, 'G': 0.29827680525164113, 'C': 0.29639660831509845, 'T': 0.20286433260393874}\n",
      "Nucleotide frequency in nonislands:\n",
      " {'A': 0.28929861153616176, 'G': 0.1984481597792771, 'C': 0.19613640750872205, 'T': 0.3161168211758391}\n",
      "\n",
      "CG-pair frequency in islands: 0.058983813569804595\n",
      "CG-pair frequency in nonislands: 0.0052779765716222836\n"
     ]
    }
   ],
   "source": [
    "islands = [seq.seq for seq in SeqIO.parse('data/islands.fasta', 'fasta')]\n",
    "non_islands = [seq.seq for seq in SeqIO.parse('data/nonislands.fasta', 'fasta')]\n",
    "\n",
    "def get_frequency(sequences):\n",
    "    nucleotides = [\"A\", \"G\", \"C\", \"T\"]\n",
    "    nucleotide_count = {nucleotide: 0 for nucleotide in nucleotides}\n",
    "    \n",
    "    for sequence in sequences:\n",
    "        for i in range(len(sequence)):\n",
    "            nucleotide_count[sequence[i]] += 1\n",
    "    \n",
    "    total_nucleotide_count = sum(nucleotide_count.values(), 0)\n",
    "    nucleotide_frequency = {key: value / total_nucleotide_count for key, value in nucleotide_count.items()}\n",
    "    \n",
    "    return nucleotide_frequency\n",
    "\n",
    "print(f\"Nucleotide frequency in islands:\\n {get_frequency(islands)}\")\n",
    "print(f\"Nucleotide frequency in nonislands:\\n {get_frequency(non_islands)}\")\n",
    "\n",
    "def get_pair_frequency(sequences):\n",
    "    nucleotides = [\"A\", \"G\", \"C\", \"T\"]\n",
    "    pair_count = {pair: 0 for pair in itertools.product(nucleotides, repeat=2)}\n",
    "    \n",
    "    for sequence in sequences:\n",
    "        for i in range(len(sequence) - 1):\n",
    "            pair_count[(sequence[i], sequence[i + 1])] += 1\n",
    "    \n",
    "    total_pairs_number = sum(pair_count.values(), 0)\n",
    "    pair_frequency = {key: value / total_pairs_number for key, value in pair_count.items()}\n",
    "    \n",
    "    return pair_frequency\n",
    "\n",
    "print(f'\\nCG-pair frequency in islands: {get_pair_frequency(islands)[(\"C\", \"G\")]}')\n",
    "print(f'CG-pair frequency in nonislands: {get_pair_frequency(non_islands)[(\"C\", \"G\")]}')"
   ]
  },
  {
   "cell_type": "markdown",
   "metadata": {},
   "source": [
    "#### Видим, что частота CG нуклеотидных пар в последовательностях из CpG островков на порядок выше, чем из обычных участков генома."
   ]
  },
  {
   "cell_type": "markdown",
   "metadata": {},
   "source": [
    "## Задача №2 (2)\n",
    "Напишите марковскую модель, которая имеет открытые состояния {A, T, G, C}, и скрытые состояния {+, -}. Когда модель в состоянии **+**, то вероятность генерации некоторого символа нуклеотида соответствует его частоте внутри CpG островков, вычислиному в первом задании, если состояние **-**, то частоте вне островков. Вероятность остаться внутри островка 0.95, а перейти в обычный геном 0.05. Для остальной части генома соответствующие вероятности 0.995 и 0.005. Саму модель можно реализовать в виде итератора, определив метод next, который возвращает пару - состояние и нуклеотид, который в этом состоянии произведен.    \n",
    "Воспользуйтесь данной моделью для того чтобы сгенерировать набор из 20 последовательностей длинной от 1 000 до 100 000, причем к каждой последовательности должна прилагаться последовательность состояний."
   ]
  },
  {
   "cell_type": "markdown",
   "metadata": {},
   "source": [
    "## Задача №3 (4)\n",
    "Напишите алгоритм Витерби для восстановления последовательности скрытых состояний марковской модели из второго задаания. Воспользуйтесь им, воссстановив состояния тех последовательностей, которые вы получили во втором задании и посчитайте TP, TN, FP, FN по количеству правильно или ошибочно предсказанных позиций из CpG остравков. "
   ]
  },
  {
   "cell_type": "markdown",
   "metadata": {},
   "source": [
    "## Задача №4 (4)\n",
    "Напишите алгоритм вперед назад для модели из второго задания. Пользуясь этим алгоритмом найдите вероятности того, что модель находилась в состоянии **+** для каждой позиции строк из второго задания. Устанавливая различные пороговые значения, определите позиции соответствующие CpG островкам и посчитайте TP. Постройте график зависимости TP от выбранного порогового значения. Есть ли пороговые значения при которых TP больше чем в задании №3?"
   ]
  }
 ],
 "metadata": {
  "kernelspec": {
   "display_name": "Python 3",
   "language": "python",
   "name": "python3"
  },
  "language_info": {
   "codemirror_mode": {
    "name": "ipython",
    "version": 3
   },
   "file_extension": ".py",
   "mimetype": "text/x-python",
   "name": "python",
   "nbconvert_exporter": "python",
   "pygments_lexer": "ipython3",
   "version": "3.8.5"
  }
 },
 "nbformat": 4,
 "nbformat_minor": 4
}